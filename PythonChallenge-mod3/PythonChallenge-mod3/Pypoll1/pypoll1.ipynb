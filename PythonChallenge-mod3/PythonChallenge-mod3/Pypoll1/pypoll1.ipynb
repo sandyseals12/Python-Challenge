{
 "cells": [
  {
   "cell_type": "code",
   "execution_count": 6,
   "id": "644274ce",
   "metadata": {},
   "outputs": [
    {
     "data": {
      "text/plain": [
       "'Ballot ID,County,Candidate\\n'"
      ]
     },
     "execution_count": 6,
     "metadata": {},
     "output_type": "execute_result"
    }
   ],
   "source": [
    "import os\n",
    "import csv\n",
    "\n",
    "path = (\"Resources/election_data.csv\")\n",
    "csv_file = open(path)\n",
    "csv_reader = csv.reader(csv_file)\n",
    "next(csv_file)"
   ]
  },
  {
   "cell_type": "code",
   "execution_count": 8,
   "id": "9560ad23",
   "metadata": {},
   "outputs": [],
   "source": [
    "vote_count = {}\n",
    "votes = [row[2] for row in csv_reader]"
   ]
  },
  {
   "cell_type": "code",
   "execution_count": 9,
   "id": "8f63c8a5",
   "metadata": {},
   "outputs": [],
   "source": [
    "for candidate in votes:\n",
    "    if candidate in vote_count:\n",
    "        vote_count[candidate] += 1\n",
    "    else:\n",
    "        vote_count[candidate] = 1"
   ]
  },
  {
   "cell_type": "code",
   "execution_count": 10,
   "id": "31179c84",
   "metadata": {},
   "outputs": [],
   "source": [
    "total_votes = len(votes)"
   ]
  },
  {
   "cell_type": "code",
   "execution_count": 11,
   "id": "5ecbf7d1",
   "metadata": {},
   "outputs": [
    {
     "name": "stdout",
     "output_type": "stream",
     "text": [
      "Election Results\n",
      "-------------------------\n",
      "Total Votes: 369711\n",
      "-------------------------\n"
     ]
    }
   ],
   "source": [
    "print(\"Election Results\")\n",
    "print(\"-------------------------\")\n",
    "print(\"Total Votes:\", total_votes)\n",
    "print(\"-------------------------\")\n"
   ]
  },
  {
   "cell_type": "code",
   "execution_count": 12,
   "id": "5cd4ac15",
   "metadata": {},
   "outputs": [
    {
     "name": "stdout",
     "output_type": "stream",
     "text": [
      "Charles Casper Stockham: 23.049% (85213)\n",
      "Diana DeGette: 73.812% (272892)\n",
      "Raymon Anthony Doane: 3.139% (11606)\n"
     ]
    }
   ],
   "source": [
    "for candidate, count in vote_count.items():\n",
    "    percentage = (count / total_votes) * 100\n",
    "    print(f\"{candidate}: {'%.3f%%' % percentage} ({count})\")"
   ]
  },
  {
   "cell_type": "code",
   "execution_count": 13,
   "id": "ac06a485",
   "metadata": {},
   "outputs": [
    {
     "name": "stdout",
     "output_type": "stream",
     "text": [
      "-------------------------\n",
      "Winner: Diana DeGette\n",
      "-------------------------\n"
     ]
    }
   ],
   "source": [
    "winner = max(vote_count, key=vote_count.get)\n",
    "print(\"-------------------------\")\n",
    "print(\"Winner:\", winner)\n",
    "print(\"-------------------------\")"
   ]
  },
  {
   "cell_type": "code",
   "execution_count": 14,
   "id": "5390f719",
   "metadata": {},
   "outputs": [],
   "source": [
    "results_str = \"Election Results\\n\"\n",
    "results_str += \"-------------------------\\n\"\n",
    "results_str += f\"Total Votes: {total_votes}\\n\"\n",
    "results_str += \"-------------------------\\n\"\n",
    "for candidate, count in vote_count.items():\n",
    "    percentage = (count / total_votes) * 100\n",
    "    results_str += f\"{candidate}: {'%.3f%%' % percentage} ({count})\\n\"\n",
    "winner = max(vote_count, key=vote_count.get)\n",
    "results_str += \"-------------------------\\n\"\n",
    "results_str += f\"Winner: {winner}\\n\"\n",
    "results_str += \"-------------------------\\n\"\n",
    "\n",
    "\n",
    "with open('election_results.txt', 'w') as file:\n",
    "    file.write(results_str)"
   ]
  },
  {
   "cell_type": "code",
   "execution_count": null,
   "id": "a6dc5d8a",
   "metadata": {},
   "outputs": [],
   "source": []
  }
 ],
 "metadata": {
  "kernelspec": {
   "display_name": "Python 3 (ipykernel)",
   "language": "python",
   "name": "python3"
  },
  "language_info": {
   "codemirror_mode": {
    "name": "ipython",
    "version": 3
   },
   "file_extension": ".py",
   "mimetype": "text/x-python",
   "name": "python",
   "nbconvert_exporter": "python",
   "pygments_lexer": "ipython3",
   "version": "3.10.9"
  }
 },
 "nbformat": 4,
 "nbformat_minor": 5
}
