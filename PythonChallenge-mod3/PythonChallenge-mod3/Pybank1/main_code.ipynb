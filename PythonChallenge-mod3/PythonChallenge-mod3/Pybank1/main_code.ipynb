{
 "cells": [
  {
   "cell_type": "code",
   "execution_count": 21,
   "id": "dde839f2",
   "metadata": {},
   "outputs": [],
   "source": [
    "import os\n",
    "import csv"
   ]
  },
  {
   "cell_type": "code",
   "execution_count": 22,
   "id": "3fe14eef",
   "metadata": {},
   "outputs": [
    {
     "data": {
      "text/plain": [
       "'Date,Profit/Losses\\n'"
      ]
     },
     "execution_count": 22,
     "metadata": {},
     "output_type": "execute_result"
    }
   ],
   "source": [
    "path = (\"Resources/budget_data.csv\")\n",
    "csv_file = open(path)\n",
    "csv_reader = csv.reader(csv_file)\n",
    "next(csv_file)"
   ]
  },
  {
   "cell_type": "code",
   "execution_count": 23,
   "id": "8ae3cb52",
   "metadata": {
    "scrolled": true
   },
   "outputs": [
    {
     "name": "stdout",
     "output_type": "stream",
     "text": [
      "CSV Header:['Jan-10', '1088983']\n"
     ]
    }
   ],
   "source": [
    "csv_header = next(csv_reader)\n",
    "print(f\"CSV Header:{csv_header}\")"
   ]
  },
  {
   "cell_type": "code",
   "execution_count": 24,
   "id": "7c7a46a8",
   "metadata": {},
   "outputs": [],
   "source": [
    "total_months = 0\n",
    "net_amount = 0\n",
    "previous_amount = 0\n",
    "average_change= 0\n",
    "greatest_increase = {\"date\": \"\", \"amount\": 0}\n",
    "greatest_decrease = {\"date\": \"\", \"amount\": 0}"
   ]
  },
  {
   "cell_type": "code",
   "execution_count": 25,
   "id": "be7ff291",
   "metadata": {},
   "outputs": [],
   "source": [
    "months = []\n",
    "profits = []\n",
    "changes = []"
   ]
  },
  {
   "cell_type": "code",
   "execution_count": 30,
   "id": "fcfd4c4c",
   "metadata": {},
   "outputs": [],
   "source": [
    "for row in csv_reader:\n",
    "    total_months += 1\n",
    "    current_amount = int(row[1])\n",
    "    net_amount += current_amount\n",
    "\n",
    "    if total_months > 1:\n",
    "        current_change = current_amount - previous_amount\n",
    "        average_change += (current_change - average_change) / (total_months - 1)\n",
    "\n",
    "        if current_change > greatest_increase[\"amount\"]:\n",
    "            greatest_increase[\"date\"] = row[0]\n",
    "            greatest_increase[\"amount\"] = current_change\n",
    "        elif current_change < greatest_decrease[\"amount\"]:\n",
    "            greatest_decrease[\"date\"] = row[0]\n",
    "            greatest_decrease[\"amount\"] = current_change\n",
    "\n",
    "    previous_amount = current_amount"
   ]
  },
  {
   "cell_type": "code",
   "execution_count": 31,
   "id": "e26f5de8",
   "metadata": {},
   "outputs": [
    {
     "name": "stdout",
     "output_type": "stream",
     "text": [
      "Financial Analysis\n",
      "------------------\n",
      "Total Months: 85\n",
      "Total: $21475215\n",
      "Average Change: $8774.68\n",
      "Greatest Increase in Profits: Aug-16 ($1862002)\n",
      "Greatest Decrease in Profits: Feb-14 ($-1825558)\n"
     ]
    }
   ],
   "source": [
    "print(\"Financial Analysis\")\n",
    "print(\"------------------\")\n",
    "print(f\"Total Months: {total_months}\")\n",
    "print(f\"Total: ${net_amount}\")\n",
    "print(f\"Average Change: ${round(average_change, 2)}\")\n",
    "print(f\"Greatest Increase in Profits: {greatest_increase['date']} (${greatest_increase['amount']})\")\n",
    "print(f\"Greatest Decrease in Profits: {greatest_decrease['date']} (${greatest_decrease['amount']})\")"
   ]
  },
  {
   "cell_type": "code",
   "execution_count": 34,
   "id": "b528ebeb",
   "metadata": {},
   "outputs": [
    {
     "name": "stdout",
     "output_type": "stream",
     "text": [
      "Analysis results saved to financial_analysis.txt\n"
     ]
    }
   ],
   "source": [
    "with open(\"financial_analysis.txt\", \"w\") as file :\n",
    "    \n",
    "    file.write(\"Financial Analysis\\n\")\n",
    "    file.write(\"------------------\\n\")\n",
    "    file.write(f\"Total Months: {total_months}\\n\")\n",
    "    file.write(f\"Total: ${net_amount}\\n\")\n",
    "    file.write(f\"Average Change: ${round(average_change, 2)}\\n\")\n",
    "    file.write(f\"Greatest Increase in Profits: {greatest_increase['date']} (${greatest_increase['amount']})\\n\")\n",
    "    file.write(f\"Greatest Decrease in Profits: {greatest_decrease['date']} (${greatest_decrease['amount']})\\n\")\n",
    "print(\"Analysis results saved to financial_analysis.txt\")"
   ]
  },
  {
   "cell_type": "code",
   "execution_count": null,
   "id": "ca0674bf",
   "metadata": {},
   "outputs": [],
   "source": []
  }
 ],
 "metadata": {
  "kernelspec": {
   "display_name": "Python 3 (ipykernel)",
   "language": "python",
   "name": "python3"
  },
  "language_info": {
   "codemirror_mode": {
    "name": "ipython",
    "version": 3
   },
   "file_extension": ".py",
   "mimetype": "text/x-python",
   "name": "python",
   "nbconvert_exporter": "python",
   "pygments_lexer": "ipython3",
   "version": "3.10.9"
  }
 },
 "nbformat": 4,
 "nbformat_minor": 5
}
