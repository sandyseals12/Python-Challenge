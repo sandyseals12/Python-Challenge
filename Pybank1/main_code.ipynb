{
 "cells": [
  {
   "cell_type": "code",
   "execution_count": 1,
   "id": "dde839f2",
   "metadata": {},
   "outputs": [],
   "source": [
    "import os\n",
    "import csv"
   ]
  },
  {
   "cell_type": "code",
   "execution_count": 4,
   "id": "3fe14eef",
   "metadata": {},
   "outputs": [
    {
     "data": {
      "text/plain": [
       "'Date,Profit/Losses\\n'"
      ]
     },
     "execution_count": 4,
     "metadata": {},
     "output_type": "execute_result"
    }
   ],
   "source": [
    "path = (\"Resources/budget_data.csv\")\n",
    "csv_file = open(path)\n",
    "csv_reader = csv.reader(csv_file)\n",
    "next(csv_file)"
   ]
  },
  {
   "cell_type": "code",
   "execution_count": 10,
   "id": "8ae3cb52",
   "metadata": {
    "scrolled": true
   },
   "outputs": [
    {
     "name": "stdout",
     "output_type": "stream",
     "text": [
      "CSV Header:['Jan-10', '1088983']\n"
     ]
    }
   ],
   "source": [
    "csv_header = next(csv_reader)\n",
    "print(f\"CSV Header:{csv_header}\")"
   ]
  },
  {
   "cell_type": "code",
   "execution_count": 15,
   "id": "7c7a46a8",
   "metadata": {},
   "outputs": [],
   "source": [
    "total_months = 0\n",
    "net_amount = 0\n",
    "greatest_increase = {\"date\": \"\", \"amount\": 0}\n",
    "greatest_decrease = {\"date\": \"\", \"amount\": 0}"
   ]
  },
  {
   "cell_type": "code",
   "execution_count": null,
   "id": "be7ff291",
   "metadata": {},
   "outputs": [],
   "source": []
  }
 ],
 "metadata": {
  "kernelspec": {
   "display_name": "Python 3 (ipykernel)",
   "language": "python",
   "name": "python3"
  },
  "language_info": {
   "codemirror_mode": {
    "name": "ipython",
    "version": 3
   },
   "file_extension": ".py",
   "mimetype": "text/x-python",
   "name": "python",
   "nbconvert_exporter": "python",
   "pygments_lexer": "ipython3",
   "version": "3.10.9"
  }
 },
 "nbformat": 4,
 "nbformat_minor": 5
}
